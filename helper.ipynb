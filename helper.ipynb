{
 "cells": [
  {
   "cell_type": "code",
   "execution_count": 1,
   "metadata": {},
   "outputs": [],
   "source": [
    "# If id_map already has all the required columns including the genes\n",
    "def create_sample_submission_from_id_map(id_map, gene_columns, output_path):\n",
    "    # Create a copy and set all gene values to zero\n",
    "    sample_submission = id_map.copy()\n",
    "    for col in gene_columns:\n",
    "        if col in sample_submission.columns:\n",
    "            sample_submission[col] = 0.0\n",
    "    \n",
    "    # Set index to the appropriate ID column if needed\n",
    "    if 'id' in sample_submission.columns:\n",
    "        sample_submission.set_index('id', inplace=True)\n",
    "    \n",
    "    # Keep only necessary columns\n",
    "    sample_submission = sample_submission[gene_columns]\n",
    "    \n",
    "    # Save to CSV\n",
    "    sample_submission.to_csv(output_path)\n",
    "    \n",
    "    return sample_submission"
   ]
  },
  {
   "cell_type": "code",
   "execution_count": 3,
   "metadata": {},
   "outputs": [],
   "source": [
    "import pandas as pd\n",
    "import os\n",
    "import sys\n",
    "import argparse"
   ]
  },
  {
   "cell_type": "code",
   "execution_count": 5,
   "metadata": {},
   "outputs": [],
   "source": [
    "de_train = pd.read_parquet(\"data/de_train_split.parquet\")\n",
    "id_map = pd.read_parquet(\"data/de_test_split.parquet\")"
   ]
  },
  {
   "cell_type": "code",
   "execution_count": 7,
   "metadata": {},
   "outputs": [],
   "source": [
    "sample_submission = create_sample_submission_from_id_map(id_map, de_train.columns[5:], \"data/sample_submission.csv\")"
   ]
  }
 ],
 "metadata": {
  "kernelspec": {
   "display_name": ".venv",
   "language": "python",
   "name": "python3"
  },
  "language_info": {
   "codemirror_mode": {
    "name": "ipython",
    "version": 3
   },
   "file_extension": ".py",
   "mimetype": "text/x-python",
   "name": "python",
   "nbconvert_exporter": "python",
   "pygments_lexer": "ipython3",
   "version": "3.9.6"
  }
 },
 "nbformat": 4,
 "nbformat_minor": 2
}
